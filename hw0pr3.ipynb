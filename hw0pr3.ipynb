{
 "cells": [
  {
   "cell_type": "markdown",
   "metadata": {},
   "source": [
    "### hw0pr3\n",
    "+ this time: recipe folders and files\n",
    "+ along with _copying_ files as a way to reorganize them... \n",
    "+ and [here is our hw0 assignment page with the details on hw0pr3](https://docs.google.com/document/d/10etTC8nC6K3lbYZooKFYOcnyBOzqo418q2ACeHcHKeM/edit) "
   ]
  },
  {
   "cell_type": "code",
   "execution_count": null,
   "metadata": {},
   "outputs": [],
   "source": [
    "# Where are we?\n",
    "%pwd"
   ]
  },
  {
   "cell_type": "code",
   "execution_count": null,
   "metadata": {},
   "outputs": [],
   "source": [
    "# in case we need to move around \n",
    "# Reminder:    . is the current directory, so cd . simply stays put!\n",
    "%cd ."
   ]
  },
  {
   "cell_type": "code",
   "execution_count": null,
   "metadata": {},
   "outputs": [],
   "source": [
    "# we will use a few file-handling libraries. These are built-in to python:\n",
    "# (feel free to look over thier online documentation; the official python docs are esp. good)\n",
    "import os\n",
    "import os.path\n",
    "import shutil"
   ]
  },
  {
   "cell_type": "code",
   "execution_count": null,
   "metadata": {},
   "outputs": [],
   "source": [
    "# An example of creating a directory named \"poptarts\"\n",
    "currentdir = os.getcwd()  # cwd == current working directory\n",
    "print(f\"currentdir is {currentdir}\")\n",
    "\n",
    "# the \"/\" is the folder separator on Mac (it may work on windows, too - try it!) \n",
    "dirtomake = currentdir + \"/\" + \"poptarts\"  \n",
    "\n",
    "os.mkdir(dirtomake)    # will work once, but not the second time!\n",
    "\n",
    "print(f\"created the directory\\n {dirtomake}\")  # announce that it worked"
   ]
  },
  {
   "cell_type": "code",
   "execution_count": null,
   "metadata": {},
   "outputs": [],
   "source": [
    "#\n",
    "# If \"/\" does not work, then \"\\\\\" may work   (\"\\\\\" is \"backslash\" and \"/\" is \"forward slash\")\n",
    "#\n",
    "# Also, os.path.join is a built-in function to create pathnames with the appropriate \n",
    "#       folder-separator character, either \"/\" or \"\\\\\"     Here is an example:\n",
    "#\n",
    "currentdir = os.getcwd()\n",
    "newdir = \"spam\"\n",
    "joined_dir = os.path.join(currentdir, newdir)\n",
    "print(f\"joined_dir is {joined_dir}\")"
   ]
  },
  {
   "cell_type": "code",
   "execution_count": null,
   "metadata": {},
   "outputs": [],
   "source": [
    "#\n",
    "# let's copy a file (hw0pr3.py) to a new directory (one named poptarts)\n",
    "# \n",
    "\n",
    "filename = \"hw0pr3.py\"\n",
    "\n",
    "currentfilepath = os.path.join(currentdir, filename)\n",
    "newfilepath = os.path.join(currentdir, \"poptarts\", filename)\n",
    "\n",
    "print(f\"copying {currentfilepath}\")\n",
    "print(f\"to {newfilepath}\")\n",
    "\n",
    "shutil.copy(currentfilepath,newfilepath)"
   ]
  },
  {
   "cell_type": "code",
   "execution_count": null,
   "metadata": {},
   "outputs": [],
   "source": [
    "#\n",
    "# let's try this again, this time using try ... except ... to handle possible errors\n",
    "#\n",
    "\n",
    "try:\n",
    "    filename = \"hw0pr3.py\"\n",
    "\n",
    "    currentfilepath = os.path.join(currentdir, filename)\n",
    "    newfilepath = os.path.join(currentdir, \"poptarts\", filename)\n",
    "\n",
    "    print(f\"copying {currentfilepath}\")\n",
    "    print(f\"to {newfilepath}\")\n",
    "\n",
    "    shutil.copy(currentfilepath,newfilepath)\n",
    "\n",
    "except FileNotFoundError as e:\n",
    "    print(f\"***   Copying did not work   *** \")\n",
    "    print(f\"Python's error message: {e}\") \n",
    "\n",
    "# except NameError as e:\n",
    "#     print(f\"***   Copying did not work   *** \")\n",
    "#     print(f\"Python's error message: {e}\") \n",
    "\n"
   ]
  },
  {
   "cell_type": "code",
   "execution_count": null,
   "metadata": {},
   "outputs": [],
   "source": [
    "#\n",
    "# It's important to know how powerful - and dangerous - a scripting language can be.\n",
    "#\n",
    "#      This cell illustrates this. \n",
    "#      Do not run this without triple-checking it's what you want. \n",
    "#      Even safer, simply never run it. Instead, delete from the UI.\n",
    "#\n",
    "\n",
    "def delete_folder_with_contents( folder_path_or_name ):  # caution!\n",
    "   \"\"\" be very, very careful! \"\"\"\n",
    "   import shutil\n",
    "   if len(folder_path_or_name) < 7:     # too suspicious, don't run it\n",
    "       print(f\"Not deleting {folder_path_or_name}\")\n",
    "       return\n",
    "\n",
    "   try:\n",
    "       print(f\"shutil.rmtree('{folder_path_or_name}')\")\n",
    "       # # shutil.rmtree(folder_path_or_name)   # this line does the deleting\n",
    "       # Only uncomment the above line _after_ +ENSURING+ it will delete what's wanted!\n",
    "   except OSError as e:\n",
    "       print(f\"Aargh! {folder_path_or_name} : {e.strerror}\")\n",
    "\n",
    "# here is the call to the function - note the many safety layers...\n",
    "# delete_folder_with_contents(\"poptarts\")"
   ]
  },
  {
   "cell_type": "code",
   "execution_count": null,
   "metadata": {},
   "outputs": [],
   "source": [
    "#\n",
    "# here is an example function that handles the contents of a file by\n",
    "#      looping through its lines\n",
    "#      and, from there, breaking up it\n",
    "# \n",
    "\n",
    "def kgcontext(filepath):\n",
    "    \"\"\" shows how to get the context of the word \"kilograms\" from\n",
    "        within the _contents_ of the file whose path is filepath\n",
    "    \"\"\"\n",
    "    # probably should have an exception-handler here...\n",
    "    # we won't for this example\n",
    " \n",
    "    # open the file\n",
    "    f = open(filepath, \"r\", encoding=\"utf-8\")\n",
    "    # get its full contents, as a string\n",
    "    contents = f.read()   \n",
    "    # close the file (a gesture of generosity to your OS!)\n",
    "    f.close()\n",
    "          \n",
    "    # let's get the file's lines:\n",
    "    FILE_LINES = contents.split(\"\\n\")  \n",
    "    for line in FILE_LINES:\n",
    "        LoW = line.split()\n",
    "        if \"kilograms\" in LoW:   \n",
    "            print(f\"The line with kilograms is\\n  {line}\")\n",
    "            print(f\"as a list of words, it's {LoW}\")\n",
    "            i = LoW.index('kilograms')\n",
    "            print(f\"and kg is at index {i}\")\n",
    "\n",
    "    return 42\n",
    " \n",
    "filepath = \"./recipe42.txt\"\n",
    "kgcontext(filepath)\n"
   ]
  },
  {
   "cell_type": "code",
   "execution_count": null,
   "metadata": {},
   "outputs": [],
   "source": [
    "#\n",
    "# I can never remember these things... Happily, there's no need to! :-)\n",
    "#\n",
    "\n",
    "L = [5,6,7]\n",
    "L.index(7)"
   ]
  },
  {
   "cell_type": "markdown",
   "metadata": {},
   "source": [
    "#### Onward into problem 3's file-analysis and -arrangements...\n",
    "+ [Here is the homework page that describes all of hw0's challenges...](https://docs.google.com/document/d/10etTC8nC6K3lbYZooKFYOcnyBOzqo418q2ACeHcHKeM/edit)\n",
    "+ As always, some of the questions will be of your own design...\n",
    "+ We look forward to your customized-questions (and answers!)"
   ]
  }
 ],
 "metadata": {
  "interpreter": {
   "hash": "57a4234f14e81cbf7baecbff46af6060de3f593e13cc5d80e22dc513dd1999c2"
  },
  "kernelspec": {
   "display_name": "Python 3.8.3 64-bit ('base': conda)",
   "language": "python",
   "name": "python3"
  },
  "language_info": {
   "codemirror_mode": {
    "name": "ipython",
    "version": 3
   },
   "file_extension": ".py",
   "mimetype": "text/x-python",
   "name": "python",
   "nbconvert_exporter": "python",
   "pygments_lexer": "ipython3",
   "version": "3.10.2"
  },
  "orig_nbformat": 4
 },
 "nbformat": 4,
 "nbformat_minor": 2
}
