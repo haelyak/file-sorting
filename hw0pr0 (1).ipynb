{
 "cells": [
  {
   "cell_type": "markdown",
   "metadata": {},
   "source": [
    "# Welcome to cs181y !\n",
    "\n",
    "This is a \"markdown\" cell, for \"ordinary\" text, i.e., _context_\n",
    "+ Double-click the cell to edit, then run it to render \n",
    " "
   ]
  },
  {
   "cell_type": "code",
   "execution_count": 1,
   "metadata": {},
   "outputs": [
    {
     "data": {
      "text/plain": [
       "42"
      ]
     },
     "execution_count": 1,
     "metadata": {},
     "output_type": "execute_result"
    }
   ],
   "source": [
    "# This is a code-cell, which should be runnable, with the arrow at left\n",
    "#   or with (control-enter) or (control-return)\n",
    "\n",
    "41 + 1      # make sure you're able to obtain this answer, via python :-)"
   ]
  },
  {
   "cell_type": "markdown",
   "metadata": {},
   "source": [
    "#### Homework 0, problem 0 is a \"reading-and-response problem\"\n",
    "+ There is usually one of these each week\n",
    "+ It often reflects on the programming portion of that week...\n",
    "+ **Response**    We ask you to compose a response to each article. It can be short (4-5 sentences is great), and the goal is to engage with the article, as well as to incorporate your own thoughts and experiences into your response. \n",
    "  + The responses are worth about 5 points each week. \n",
    "  + Include your response in the cell at the bottom of this notebook (easiest!)\n",
    "  + Then, submit this notebook `hw0pr0.ipynb` to the submission site\n",
    "\n",
    "<br>\n",
    "\n",
    "+ To get familiar with Gradescope, feel free to submit this notebook, for the moment, _without_ the reading-response \n",
    "  + It's always possible to re-submit a file to Gradescope.\n",
    "  + Gradescope keeps all submitted versions; the graders see the last version submitted\n",
    "\n",
    "<hr>"
   ]
  },
  {
   "cell_type": "markdown",
   "metadata": {},
   "source": [
    "#### Reading for hw0...\n",
    "\n",
    "Similar in spirit to cs5's reading/response assignments, each week there is a short article overlapping that week's topics, sometimes broadly, other times narrowly. \n",
    "\n",
    "This week has \"1+\" readings: \n",
    "\n",
    "The \"1\" comes from the Economist. It muses about how \"mediated\" the world might become. Timely, seeing as this class -- and so much else -- is via Zoom right now. Here is the article:\n",
    "+ [The Metaverse is Coming, (a locally-linked pdf)](https://drive.google.com/file/d/1maxglrFap2zLS0WTbSRn8UEYMxqjyhio/view)     \n",
    "+ [the same article, at the Economist itself](https://www.economist.com/technology-quarterly/2020/10/01/the-metaverse-is-coming)\n",
    "\n",
    "<br>\n",
    "\n",
    "This week's reading \"+\" is only two paragraphs, from the ACM, the Association for Computing Machinery. The ACM is the world's largest professional-computing group. In 2018, the ACM published a <u>Code of Ethics and Profesional Conduct</u>, \"the Code,\" a broad ethical guide for all computing work:  \n",
    "+ [Read the first two paragraphs of the Preamble  of \"the Code.\"](https://ethics.acm.org/)\n",
    "\n",
    "<br>\n",
    "\n",
    "#### Prompts\n",
    "\n",
    "As each week, this \"problem 0\" asks you to compose a one-paragraph reflection (~5 sentences, give or take), building from your choice of prompts. This week's prompts: \n",
    "+ (a) What is your overall sense of the deeply-mediated \"metaverse\"-like immersive experiences?  Does your experience of 2020-2021's \"Zoom era\" affect your thoughts? \n",
    "+ (b) How do you view \"deeply mediated\" experiences in terms of the ethics of computational interactions, vis-a-vis the ACM's (preamble) on computing ethics. Are they ethics-promoting? detracting?  neutral?  amplifying what's already there?\n",
    "\n",
    "<br>\n",
    "\n",
    "Here and in general, your response should incorporate ideas from the article(s), ideally incorporating your own takes and experiences.       \n",
    "\n",
    "Submit your reflection in this notebook file (`hw0pr0.ipynb`)\n",
    "\n",
    "\n",
    "<hr>"
   ]
  },
  {
   "cell_type": "markdown",
   "metadata": {},
   "source": [
    "#### Reading response\n",
    "\n",
    "(Feel free to use this cell for your response.)"
   ]
  }
 ],
 "metadata": {
  "interpreter": {
   "hash": "7ccb4bb6bd67730c9185e6c24c983362cd7b4575b595bfae100d8d91e48f4f1e"
  },
  "kernelspec": {
   "display_name": "Python 3.8.8 64-bit (conda)",
   "language": "python",
   "name": "python3"
  },
  "language_info": {
   "codemirror_mode": {
    "name": "ipython",
    "version": 3
   },
   "file_extension": ".py",
   "mimetype": "text/x-python",
   "name": "python",
   "nbconvert_exporter": "python",
   "pygments_lexer": "ipython3",
   "version": "3.10.2"
  },
  "orig_nbformat": 4
 },
 "nbformat": 4,
 "nbformat_minor": 2
}
