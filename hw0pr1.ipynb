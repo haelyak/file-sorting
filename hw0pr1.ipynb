{
 "cells": [
  {
   "cell_type": "markdown",
   "metadata": {},
   "source": [
    "\n",
    "### Markdown!\n",
    "+ At heart, cs181y (cs35) is about bridge-building between human expression and executable expression\n",
    "+ markdown is a popular language for human expression  (this cell is markdown)\n",
    "  + control-enter renders the Markdown  (\"runs\" it)\n",
    "+ python is a popular language for executable expression  (next cell...)\n",
    "\n",
    "#### This is a Markdown cell, fourth-level header\n",
    "+ If you've already used Markdown, e.g., in Discord, almost all of that syntax works\n",
    "+ If you haven't used it, [this Markdown link](https://www.markdownguide.org/basic-syntax/) can help!\n",
    "\n",
    "#### First task -- Be sure to\n",
    "+ make this a <i>nested</i> list with <u>your</u> name and two \"fun facts\" about yourself:\n",
    "+ Kayleah Tsai:\n",
    "+ - I don't like soda :P\n",
    "+ - I <3 pandas\n",
    "+ \n",
    "+ and, include a link to an image of you -- or something from your winter break:\n",
    "+ Here is a picture of my little snowmen! https://photos.app.goo.gl/joXonK2aR9q9pi2y8\n",
    "\n",
    "#### Second task -- is \"to markdown\":\n",
    "+ **bold this item**\n",
    "+ *italicize this item*\n",
    "+ ~~strikethrough this item~~\n",
    "+ `use code-formatting for this item, i.e., fixed-width`\n",
    "+ ***do something else (your choice) with this item***\n",
    "+ BUT... <i><b><u>don't</u></b></i> use markup! \n",
    "+ <i>That is, don't use tags like \\<i\\>this\\</i\\> for any of these!</i>\n",
    "\n",
    "#### Extra!  Include a small image (you'll have to submit the image, as well)\n",
    "+ I have not been able to succeed with this in jupyter/vscode markdown, but...\n",
    "+ a later cell shows that it's doable in a code cell"
   ]
  },
  {
   "cell_type": "markdown",
   "metadata": {},
   "source": []
  },
  {
   "cell_type": "code",
   "execution_count": 2,
   "metadata": {},
   "outputs": [
    {
     "name": "stdout",
     "output_type": "stream",
     "text": [
      "x is 47\n"
     ]
    },
    {
     "data": {
      "text/plain": [
       "42"
      ]
     },
     "execution_count": 2,
     "metadata": {},
     "output_type": "execute_result"
    }
   ],
   "source": [
    "#\n",
    "# python is a popular language for executable expression\n",
    "#     This is a python cell\n",
    "#     Again, control-return (control-enter) runs it\n",
    "\n",
    "x = 47\n",
    "print(f\"x is {x}\")\n",
    "x -= 5\n",
    "x\n",
    "\n",
    "# notice that the last non-commented expression is the output\n",
    "# printing and outputting are different!  \n",
    "# Also, f-strings are very cool... more on those next."
   ]
  },
  {
   "cell_type": "code",
   "execution_count": 3,
   "metadata": {},
   "outputs": [
    {
     "name": "stdout",
     "output_type": "stream",
     "text": [
      "hello from jupyter, running python, within vscode...!\n",
      "\n",
      "Meta would be proud!\n",
      "\n",
      "Our guinea pigs are named Pip and Squeak!\n",
      "\n"
     ]
    }
   ],
   "source": [
    "#\n",
    "# f-strings!\n",
    "#     \n",
    "\n",
    "interface = \"jupyter\"\n",
    "language = \"python\"\n",
    "application = \"vscode\"\n",
    "\n",
    "print(f\"hello from {interface}, running {language}, within {application}...!\")\n",
    "print()\n",
    "\n",
    "company = \"Meta\"\n",
    "print(f\"{company} would be proud!\")\n",
    "\n",
    "#\n",
    "# Your task:\n",
    "#    Here, create (at least) three more variables in the quippy spirit above and\n",
    "#    render them as strings using f-strings, aka, \"string interpolation\"\n",
    "#    Experiment!\n",
    "# \n",
    "\n",
    "animal = \"guinea pigs\"\n",
    "name1 = \"Pip\"\n",
    "name2 = \"Squeak\"\n",
    "\n",
    "print()\n",
    "print(f\"Our {animal} are named {name1} and {name2}!\")\n",
    "print()"
   ]
  },
  {
   "cell_type": "code",
   "execution_count": 4,
   "metadata": {},
   "outputs": [],
   "source": [
    "# remember pwd? Try it (next cell...)\n",
    "# it does not work unless it's alone in a cell...  at least for me"
   ]
  },
  {
   "cell_type": "code",
   "execution_count": 5,
   "metadata": {},
   "outputs": [
    {
     "data": {
      "text/plain": [
       "'c:\\\\Users\\\\tsaik\\\\Downloads'"
      ]
     },
     "execution_count": 5,
     "metadata": {},
     "output_type": "execute_result"
    }
   ],
   "source": [
    "pwd"
   ]
  },
  {
   "cell_type": "code",
   "execution_count": 6,
   "metadata": {},
   "outputs": [],
   "source": [
    "# similarly, cd and ls work, but only when they stand alone in a cell:"
   ]
  },
  {
   "cell_type": "code",
   "execution_count": 7,
   "metadata": {},
   "outputs": [
    {
     "name": "stdout",
     "output_type": "stream",
     "text": [
      "c:\\Users\\tsaik\\Downloads\n"
     ]
    }
   ],
   "source": [
    "cd ."
   ]
  },
  {
   "cell_type": "code",
   "execution_count": 8,
   "metadata": {},
   "outputs": [
    {
     "name": "stdout",
     "output_type": "stream",
     "text": [
      " Volume in drive C is Local Disk\n",
      " Volume Serial Number is 28D0-C244\n",
      "\n",
      " Directory of c:\\Users\\tsaik\\Downloads\n",
      "\n",
      "01/25/2022  04:07 PM    <DIR>          .\n",
      "01/24/2022  08:20 PM    <DIR>          ..\n",
      "12/31/2021  10:45 AM            22,613 0063-aw-etoile-de-mer.png\n",
      "01/23/2022  05:46 PM         1,448,894 150-1509769_hand-painted-three-slices-of-watercolor-leaves-png.png\n",
      "01/23/2022  05:45 PM           238,342 20200526_082603.png\n",
      "01/14/2022  02:03 PM           884,980 20210903_134321.jpg\n",
      "01/14/2022  02:03 PM           927,175 20210903_153447.jpg\n",
      "01/14/2022  12:11 PM           384,046 20210906_165410.jpg\n",
      "01/08/2022  06:18 PM         1,005,445 20211009_164640.jpg\n",
      "01/08/2022  06:18 PM           284,428 20211218_180653.jpg\n",
      "01/13/2022  04:34 PM         1,370,253 20211222_140346.jpg\n",
      "01/13/2022  04:34 PM         1,096,535 20211222_153056.jpg\n",
      "01/14/2022  12:08 PM         1,508,466 245683440_665567831090996_4760587003378006793_n.jpg\n",
      "01/14/2022  12:04 PM         1,826,070 246352410_3160455020856943_2383535724029485533_n.jpg\n",
      "01/14/2022  12:05 PM         1,406,880 246359431_1253903795093984_2014132949219378317_n.jpg\n",
      "01/14/2022  04:42 PM         1,594,694 246417889_855575865127394_3770823619181888387_n.jpg\n",
      "01/14/2022  12:06 PM         1,256,760 246569516_909632283287176_1313941970915815604_n.jpg\n",
      "01/23/2022  05:43 PM           518,598 277-2776716_watercolor-painting-rose-drawing-pink-rose-leaf-watercolor.png\n",
      "01/23/2022  05:42 PM           823,261 290-2901533_rose-transparent-watercolor-flowers-watercolor-roses-with-transparent.png\n",
      "01/23/2022  08:20 PM            38,631 313287.png\n",
      "01/23/2022  05:43 PM           214,027 349-3493463_watercolor-leaves-png-pic-rose-leaves-png-watercolor.png\n",
      "01/23/2022  08:21 PM            18,988 360_F_260036175_rkHzlqv48U2jtrzdQHy1GE313X3HQLE7.jpg\n",
      "01/23/2022  08:25 PM            14,143 3760862.png\n",
      "01/23/2022  08:22 PM            11,961 4936661.png\n",
      "12/31/2021  06:09 PM        52,728,176 5C Swim Club.pdf\n",
      "12/31/2021  06:13 PM           292,217 5C Swim Logo (1).jpg\n",
      "12/31/2021  06:11 PM           292,217 5C Swim Logo.jpg\n",
      "01/14/2022  02:43 PM         1,351,614 671FBEC1-2549-4CCF-A7BA-5A568A685F16.jpeg\n",
      "01/14/2022  02:43 PM         2,597,182 9AD021F0-D669-4354-8217-D7D8A477BBAB.jpeg\n",
      "08/25/2020  07:42 PM    <DIR>          anaconda3\n",
      "01/23/2022  02:55 PM         8,448,489 Arnett.pdf\n",
      "09/13/2021  03:35 PM           224,552 avast_free_antivirus_setup_online.exe\n",
      "01/23/2022  02:55 PM         2,467,022 Baltes.pdf\n",
      "01/21/2022  02:09 PM        46,864,174 Bryant Computer Systems.pdf\n",
      "01/20/2022  08:50 PM         4,929,177 Bryant, WALDRON - Computer Systems A Programmers Perspective-Prentice-Hall (2003).pdf\n",
      "01/23/2022  07:46 PM           218,055 Class2022 Letter.pdf\n",
      "01/23/2022  07:46 PM           476,518 Class2023 Letter.pdf\n",
      "03/29/2021  07:36 PM    <DIR>          compiled\n",
      "01/19/2022  07:58 PM        29,414,950 CS105 Ch.1.pdf\n",
      "01/23/2022  10:15 AM        25,893,443 CS105 Ch.2.pdf\n",
      "01/24/2022  04:02 PM         1,899,682 CS81 Hw1-prop.pdf\n",
      "01/23/2022  08:25 PM             4,969 depositphotos_411119774-stock-illustration-vector-scooter-icon-design-white.jpg\n",
      "02/16/2021  03:21 PM        68,822,328 DiscordSetup (1).exe\n",
      "09/14/2020  06:56 AM        62,636,856 DiscordSetup.exe\n",
      "09/01/2021  01:13 PM       535,429,608 Docker Desktop Installer.exe\n",
      "12/11/2020  09:55 AM    <DIR>          download\n",
      "01/23/2022  05:42 PM             8,630 download.jpg\n",
      "09/08/2021  09:01 AM         1,542,240 DroidCam.Update.6.4.3.exe\n",
      "02/15/2021  04:29 PM       107,329,512 eclipse-inst-jre-win64 (1).exe\n",
      "02/10/2021  01:51 PM       107,329,512 eclipse-inst-jre-win64.exe\n",
      "01/11/2022  09:52 AM         2,333,966 getcoverpdf.pdf\n",
      "09/01/2021  06:47 PM        50,101,024 Git-2.33.0.2-64-bit.exe\n",
      "01/24/2022  04:35 PM           164,370 gluck-dance-of-the-blessed-spirits.pdf\n",
      "01/24/2022  04:56 PM            77,255 gluck-paride-ed-elena-gavotte.pdf\n",
      "01/23/2022  02:56 PM         3,568,248 Heat and Energy.pdf\n",
      "01/24/2022  07:11 PM             2,214 hw0ec.ipynb\n",
      "01/24/2022  07:07 PM             4,879 hw0pr0 (1).ipynb\n",
      "01/25/2022  04:29 PM             6,503 hw0pr0.ipynb\n",
      "01/25/2022  04:37 PM            14,084 hw0pr1.ipynb\n",
      "01/24/2022  07:11 PM             9,801 hw0pr2.ipynb\n",
      "01/24/2022  07:11 PM             8,019 hw0pr3.ipynb\n",
      "01/13/2022  05:02 PM         3,241,792 image (1).png\n",
      "01/13/2022  05:02 PM         3,403,608 image.png\n",
      "01/14/2022  02:04 PM         1,285,056 image0-1.jpg\n",
      "10/10/2021  09:31 AM         1,106,048 ImageResizerSetup-3.1.2.exe\n",
      "01/14/2022  02:04 PM         6,781,706 IMG_0132.JPG\n",
      "01/14/2022  02:05 PM         6,754,912 IMG_0135.JPG\n",
      "01/14/2022  04:50 PM         7,166,027 IMG_0137.JPG\n",
      "01/14/2022  02:00 PM           200,268 IMG_0191.jpg\n",
      "01/14/2022  12:01 PM           119,952 IMG_0972.jpg\n",
      "01/14/2022  12:13 PM           847,437 IMG_2211.jpg\n",
      "01/14/2022  02:05 PM           819,526 IMG_2247.jpg\n",
      "01/14/2022  12:01 PM         1,501,322 IMG_8565.jpg\n",
      "01/24/2022  01:46 PM         2,303,122 IMSLP450604-PMLP732811-FRies_3_Flute_Quartets,_Op.145_No.1_parts.pdf\n",
      "07/03/2020  12:42 PM    <DIR>          install\n",
      "01/25/2022  04:07 PM           183,392 Intern-WeeklyTimesheet-updated.pdf\n",
      "05/01/2021  07:56 PM             7,366 japhson-dobw.nfo\n",
      "05/01/2021  07:56 PM            50,141 japhson-dobw.srt\n",
      "02/15/2021  04:23 PM       162,022,536 jdk-8u261-windows-i586.exe\n",
      "02/15/2021  04:33 PM       174,353,032 jdk-8u261-windows-x64 (1).exe\n",
      "04/27/2021  01:26 PM       174,353,032 jdk-8u261-windows-x64 (2).exe\n",
      "02/10/2021  01:43 PM       174,353,032 jdk-8u261-windows-x64.exe\n",
      "01/24/2022  07:05 PM        34,670,826 lec1_cs35_spr22_v2.pdf\n",
      "06/28/2020  12:14 PM        43,195,784 McAfee_Installer_serial_aaWvn-ko8HZ1Rr98RlQVrA2_key_affid_1250_akey.exe\n",
      "07/03/2020  12:42 PM       150,838,848 MFC-J870DW-inst-A1-us3.EXE\n",
      "01/23/2022  08:17 PM           390,243 Mudder Life Spectrum 2021-22 .png\n",
      "10/05/2020  03:20 PM       110,641,152 MuseScore-3.5.0-x86_64.msi\n",
      "01/23/2022  05:33 PM           507,854 paper-14643.png\n",
      "01/23/2022  05:36 PM           603,502 paper-14680.png\n",
      "01/23/2022  05:36 PM           970,241 paper-14720.png\n",
      "01/23/2022  05:43 PM            97,413 png-clipart-rose-leaves-hand-painted-watercolor.png\n",
      "01/24/2022  07:35 PM        28,239,176 python-3.10.2-amd64.exe\n",
      "01/25/2021  12:39 PM        84,145,840 racket-7.9-x86_64-win32.exe\n",
      "01/14/2022  12:01 PM           458,134 received_402120318227598.jpeg\n",
      "01/20/2022  03:03 PM            71,489 ResponseSummary.pdf\n",
      "01/13/2022  05:19 PM           151,339 Screenshot 2022-01-13 171934.jpg\n",
      "01/18/2022  02:45 PM           107,878 Screenshot 2022-01-18 144522.jpg\n",
      "01/20/2022  08:08 PM           225,961 Screenshot 2022-01-19 194358.jpg\n",
      "01/24/2022  02:47 PM            95,465 Screenshot 2022-01-24 144744.jpg\n",
      "01/24/2022  02:47 PM            55,454 Screenshot 2022-01-24 144756.jpg\n",
      "01/24/2022  02:48 PM           175,218 Screenshot 2022-01-24 144807.jpg\n",
      "01/24/2022  02:48 PM           135,464 Screenshot 2022-01-24 144818.jpg\n",
      "01/24/2022  02:48 PM            52,252 Screenshot 2022-01-24 144827.jpg\n",
      "01/24/2022  05:22 PM            16,241 Screenshot 2022-01-24 172212.jpg\n",
      "01/24/2022  05:23 PM            24,531 Screenshot 2022-01-24 172319.jpg\n",
      "01/24/2022  05:28 PM            19,946 Screenshot 2022-01-24 172847.jpg\n",
      "01/24/2022  06:49 PM            24,437 Screenshot 2022-01-24 184941.jpg\n",
      "01/24/2022  08:04 PM           273,503 Screenshot 2022-01-24 200405.jpg\n",
      "01/24/2022  08:49 PM           470,837 Screenshot 2022-01-24 204936.jpg\n",
      "01/25/2022  10:48 AM            18,677 Screenshot 2022-01-25 104801.jpg\n",
      "01/25/2022  10:52 AM           141,880 Screenshot 2022-01-25 105223.jpg\n",
      "01/25/2022  10:52 AM            97,093 Screenshot 2022-01-25 105241.jpg\n",
      "01/14/2022  02:11 PM            39,129 Senior Scrapbook Polaroids (1).jpg\n",
      "01/14/2022  04:51 PM           454,538 Senior Scrapbook Polaroids (1).png\n",
      "01/14/2022  02:01 PM            45,928 Senior Scrapbook Polaroids.jpg\n",
      "01/14/2022  01:32 PM           446,551 Senior Scrapbook Polaroids.png\n",
      "09/12/2020  04:30 PM           892,232 SpotifySetup.exe\n",
      "01/23/2022  05:42 PM           141,079 Spring-Tulip-Floral-Watercolor-Rose-Flowers-5250615.png\n",
      "04/18/2021  02:57 PM    <DIR>          Textbook Drive\n",
      "09/03/2021  04:09 PM            40,356 Tsai General Resume.pdf\n",
      "01/25/2022  02:42 PM         1,124,653 Tues 1-25-2022 Slides (1).pptx\n",
      "01/25/2022  02:41 PM         1,124,653 Tues 1-25-2022 Slides.pptx\n",
      "01/23/2022  05:30 PM           224,128 vintage-paper-old-asset-notebook-antique-grungy-tan.png\n",
      "05/01/2021  07:47 PM        42,585,440 vlc-3.0.12-win64.exe\n",
      "08/25/2020  07:36 PM        58,657,592 VSCodeUserSetup-x64-1.48.2.exe\n",
      "01/23/2022  05:46 PM            84,312 watercolor-green-leaves-sticker-1539984948.1758611.png\n",
      "01/24/2022  07:22 PM    <DIR>          week0_spr22\n",
      "01/24/2022  07:18 PM         7,531,760 week0_spr22.zip\n",
      "09/01/2021  01:24 PM        17,104,896 wsl_update_x64.msi\n",
      "             121 File(s)  2,442,653,908 bytes\n",
      "               8 Dir(s)  27,742,830,592 bytes free\n"
     ]
    }
   ],
   "source": [
    "ls"
   ]
  },
  {
   "cell_type": "code",
   "execution_count": 9,
   "metadata": {},
   "outputs": [
    {
     "ename": "Exception",
     "evalue": "File `'hw0pr1.py'` not found.",
     "output_type": "error",
     "traceback": [
      "\u001b[1;31m---------------------------------------------------------------------------\u001b[0m",
      "\u001b[1;31mOSError\u001b[0m                                   Traceback (most recent call last)",
      "File \u001b[1;32m~\\AppData\\Local\\Programs\\Python\\Python310\\lib\\site-packages\\IPython\\core\\magics\\execution.py:696\u001b[0m, in \u001b[0;36mExecutionMagics.run\u001b[1;34m(self, parameter_s, runner, file_finder)\u001b[0m\n\u001b[0;32m    695\u001b[0m     fpath \u001b[38;5;241m=\u001b[39m arg_lst[\u001b[38;5;241m0\u001b[39m]\n\u001b[1;32m--> 696\u001b[0m     filename \u001b[38;5;241m=\u001b[39m \u001b[43mfile_finder\u001b[49m\u001b[43m(\u001b[49m\u001b[43mfpath\u001b[49m\u001b[43m)\u001b[49m\n\u001b[0;32m    697\u001b[0m \u001b[38;5;28;01mexcept\u001b[39;00m \u001b[38;5;167;01mIndexError\u001b[39;00m \u001b[38;5;28;01mas\u001b[39;00m e:\n",
      "File \u001b[1;32m~\\AppData\\Local\\Programs\\Python\\Python310\\lib\\site-packages\\IPython\\utils\\path.py:91\u001b[0m, in \u001b[0;36mget_py_filename\u001b[1;34m(name)\u001b[0m\n\u001b[0;32m     90\u001b[0m \u001b[38;5;28;01melse\u001b[39;00m:\n\u001b[1;32m---> 91\u001b[0m     \u001b[38;5;28;01mraise\u001b[39;00m \u001b[38;5;167;01mIOError\u001b[39;00m(\u001b[38;5;124m'\u001b[39m\u001b[38;5;124mFile `\u001b[39m\u001b[38;5;132;01m%r\u001b[39;00m\u001b[38;5;124m` not found.\u001b[39m\u001b[38;5;124m'\u001b[39m \u001b[38;5;241m%\u001b[39m name)\n",
      "\u001b[1;31mOSError\u001b[0m: File `'hw0pr1.py'` not found.",
      "\nThe above exception was the direct cause of the following exception:\n",
      "\u001b[1;31mException\u001b[0m                                 Traceback (most recent call last)",
      "Input \u001b[1;32mIn [9]\u001b[0m, in \u001b[0;36m<module>\u001b[1;34m\u001b[0m\n\u001b[0;32m      1\u001b[0m \u001b[38;5;66;03m# run an external script!  This was last year's starter code:\u001b[39;00m\n\u001b[1;32m----> 2\u001b[0m \u001b[43mget_ipython\u001b[49m\u001b[43m(\u001b[49m\u001b[43m)\u001b[49m\u001b[38;5;241;43m.\u001b[39;49m\u001b[43mrun_line_magic\u001b[49m\u001b[43m(\u001b[49m\u001b[38;5;124;43m'\u001b[39;49m\u001b[38;5;124;43mrun\u001b[39;49m\u001b[38;5;124;43m'\u001b[39;49m\u001b[43m,\u001b[49m\u001b[43m \u001b[49m\u001b[38;5;124;43m'\u001b[39;49m\u001b[38;5;124;43mhw0pr1.py\u001b[39;49m\u001b[38;5;124;43m'\u001b[39;49m\u001b[43m)\u001b[49m\n",
      "File \u001b[1;32m~\\AppData\\Local\\Programs\\Python\\Python310\\lib\\site-packages\\IPython\\core\\interactiveshell.py:2204\u001b[0m, in \u001b[0;36mInteractiveShell.run_line_magic\u001b[1;34m(self, magic_name, line, _stack_depth)\u001b[0m\n\u001b[0;32m   2202\u001b[0m     kwargs[\u001b[38;5;124m'\u001b[39m\u001b[38;5;124mlocal_ns\u001b[39m\u001b[38;5;124m'\u001b[39m] \u001b[38;5;241m=\u001b[39m \u001b[38;5;28mself\u001b[39m\u001b[38;5;241m.\u001b[39mget_local_scope(stack_depth)\n\u001b[0;32m   2203\u001b[0m \u001b[38;5;28;01mwith\u001b[39;00m \u001b[38;5;28mself\u001b[39m\u001b[38;5;241m.\u001b[39mbuiltin_trap:\n\u001b[1;32m-> 2204\u001b[0m     result \u001b[38;5;241m=\u001b[39m fn(\u001b[38;5;241m*\u001b[39margs, \u001b[38;5;241m*\u001b[39m\u001b[38;5;241m*\u001b[39mkwargs)\n\u001b[0;32m   2205\u001b[0m \u001b[38;5;28;01mreturn\u001b[39;00m result\n",
      "File \u001b[1;32m~\\AppData\\Local\\Programs\\Python\\Python310\\lib\\site-packages\\IPython\\core\\magics\\execution.py:707\u001b[0m, in \u001b[0;36mExecutionMagics.run\u001b[1;34m(self, parameter_s, runner, file_finder)\u001b[0m\n\u001b[0;32m    705\u001b[0m     \u001b[38;5;28;01mif\u001b[39;00m os\u001b[38;5;241m.\u001b[39mname \u001b[38;5;241m==\u001b[39m \u001b[38;5;124m'\u001b[39m\u001b[38;5;124mnt\u001b[39m\u001b[38;5;124m'\u001b[39m \u001b[38;5;129;01mand\u001b[39;00m re\u001b[38;5;241m.\u001b[39mmatch(\u001b[38;5;124mr\u001b[39m\u001b[38;5;124m\"\u001b[39m\u001b[38;5;124m^\u001b[39m\u001b[38;5;124m'\u001b[39m\u001b[38;5;124m.*\u001b[39m\u001b[38;5;124m'\u001b[39m\u001b[38;5;124m$\u001b[39m\u001b[38;5;124m\"\u001b[39m,fpath):\n\u001b[0;32m    706\u001b[0m         warn(\u001b[38;5;124m'\u001b[39m\u001b[38;5;124mFor Windows, use double quotes to wrap a filename: \u001b[39m\u001b[38;5;132;01m%r\u001b[39;00m\u001b[38;5;124mun \u001b[39m\u001b[38;5;124m\"\u001b[39m\u001b[38;5;124mmypath\u001b[39m\u001b[38;5;130;01m\\\\\u001b[39;00m\u001b[38;5;124mmyfile.py\u001b[39m\u001b[38;5;124m\"\u001b[39m\u001b[38;5;124m'\u001b[39m)\n\u001b[1;32m--> 707\u001b[0m     \u001b[38;5;28;01mraise\u001b[39;00m \u001b[38;5;167;01mException\u001b[39;00m(msg) \u001b[38;5;28;01mfrom\u001b[39;00m \u001b[38;5;21;01me\u001b[39;00m\n\u001b[0;32m    708\u001b[0m \u001b[38;5;28;01mexcept\u001b[39;00m \u001b[38;5;167;01mTypeError\u001b[39;00m:\n\u001b[0;32m    709\u001b[0m     \u001b[38;5;28;01mif\u001b[39;00m fpath \u001b[38;5;129;01min\u001b[39;00m sys\u001b[38;5;241m.\u001b[39mmeta_path:\n",
      "\u001b[1;31mException\u001b[0m: File `'hw0pr1.py'` not found."
     ]
    }
   ],
   "source": [
    "# run an external script!  This was last year's starter code:\n",
    "%run hw0pr1.py   "
   ]
  },
  {
   "cell_type": "code",
   "execution_count": 11,
   "metadata": {},
   "outputs": [],
   "source": [
    "# run a local script (each code cell is really a script)\n",
    "# Here, guarded by an if True:\n",
    "\n",
    "if False:\n",
    "    print(f\"It was True!\")\n",
    "\n",
    "# try changing the True to False (no need to change the printing :-)"
   ]
  },
  {
   "cell_type": "code",
   "execution_count": 12,
   "metadata": {},
   "outputs": [
    {
     "data": {
      "text/plain": [
       "41"
      ]
     },
     "execution_count": 12,
     "metadata": {},
     "output_type": "execute_result"
    }
   ],
   "source": [
    "# reminder: in each cell (script) only the last line is output (all lines are run)\n",
    "y = 54\n",
    "x = y-7\n",
    "x = x-1\n",
    "x = x-5\n",
    "x"
   ]
  },
  {
   "cell_type": "code",
   "execution_count": 13,
   "metadata": {},
   "outputs": [
    {
     "data": {
      "text/plain": [
       "54"
      ]
     },
     "execution_count": 13,
     "metadata": {},
     "output_type": "execute_result"
    }
   ],
   "source": [
    "# variables are global through the notebook: BEWARE!\n",
    "# Here, y will be 54 (from the cell above... provided you've run it!)\n",
    "y"
   ]
  },
  {
   "cell_type": "code",
   "execution_count": null,
   "metadata": {},
   "outputs": [],
   "source": [
    "# it is possible to show an imagem in Python\n",
    "# [[ note:  I haven't figured out if it's possible in markdown yet... ]]\n",
    "\n",
    "from IPython import display\n",
    "display.Image(\"./alien.png\")   # try spam.jpg and alien.png"
   ]
  },
  {
   "cell_type": "markdown",
   "metadata": {},
   "source": [
    "#### In the next cell, \n",
    "+ run an infinite loop\n",
    "+ practice using the \"Interrupt\" to kill it\n",
    "+ then, use the three-dots menu at the lower left to delete the cell's output...\n",
    "\n",
    "#### phew!"
   ]
  },
  {
   "cell_type": "code",
   "execution_count": null,
   "metadata": {},
   "outputs": [],
   "source": [
    "print(f\"Start!\")\n",
    "\n",
    "while True:\n",
    "    print(\".\", end=\"\")\n",
    "\n",
    "print(f\"End.\")\n"
   ]
  },
  {
   "cell_type": "markdown",
   "metadata": {},
   "source": [
    "####  An example function and some tests"
   ]
  },
  {
   "cell_type": "code",
   "execution_count": 14,
   "metadata": {},
   "outputs": [],
   "source": [
    "# a good starting point!\n",
    "\n",
    "def plus1( N ):\n",
    "    \"\"\" returns a number one larger than its input \"\"\"\n",
    "    return N+1\n",
    "\n"
   ]
  },
  {
   "cell_type": "code",
   "execution_count": 15,
   "metadata": {},
   "outputs": [],
   "source": [
    "# An example loop - with a countdown being printed\n",
    "#\n",
    "import time\n",
    "\n",
    "def countdown( N ):\n",
    "    \"\"\" counts downward from N to 0 printing only \"\"\"\n",
    "    for i in range(N,-1,-1):\n",
    "        print(\"i ==\", i)\n",
    "        time.sleep(0.2)\n",
    "\n",
    "    return    # no return value here!"
   ]
  },
  {
   "cell_type": "code",
   "execution_count": 16,
   "metadata": {},
   "outputs": [
    {
     "name": "stdout",
     "output_type": "stream",
     "text": [
      "[[ Start! ]]\n",
      "\n",
      "plus1(41) -> 42\n",
      "\n",
      "Testing countdown(5):\n",
      "i == 5\n",
      "i == 4\n",
      "i == 3\n",
      "i == 2\n",
      "i == 1\n",
      "i == 0\n",
      "\n",
      "[[ Fin. ]]\n"
     ]
    }
   ],
   "source": [
    "if True:\n",
    "    \"\"\" a cell for trying out the previous two cells \"\"\"\n",
    "\n",
    "    # sign on\n",
    "    print(f\"[[ Start! ]]\\n\")\n",
    "\n",
    "    # testing plus1\n",
    "    result = plus1( 41 )\n",
    "    print(f\"plus1(41) -> {result}\")\n",
    "    print()\n",
    "\n",
    "    # testing countdown\n",
    "    print(\"Testing countdown(5):\")\n",
    "    countdown(5)  # should print things -- with dramatic pauses! \n",
    "\n",
    "    # sign off\n",
    "    print(\"\\n[[ Fin. ]]\")"
   ]
  },
  {
   "cell_type": "code",
   "execution_count": 17,
   "metadata": {},
   "outputs": [],
   "source": [
    "def doublefun(s):\n",
    "    \"\"\" returns the input plus itself\n",
    "        could be a string or \n",
    "    \"\"\"\n",
    "    return s + s"
   ]
  },
  {
   "cell_type": "code",
   "execution_count": 18,
   "metadata": {},
   "outputs": [
    {
     "ename": "FileNotFoundError",
     "evalue": "[Errno 2] No such file or directory: 'input.txt'",
     "output_type": "error",
     "traceback": [
      "\u001b[1;31m---------------------------------------------------------------------------\u001b[0m",
      "\u001b[1;31mFileNotFoundError\u001b[0m                         Traceback (most recent call last)",
      "Input \u001b[1;32mIn [18]\u001b[0m, in \u001b[0;36m<module>\u001b[1;34m\u001b[0m\n\u001b[0;32m      1\u001b[0m INPUT_FILENAME \u001b[38;5;241m=\u001b[39m \u001b[38;5;124m\"\u001b[39m\u001b[38;5;124minput.txt\u001b[39m\u001b[38;5;124m\"\u001b[39m\n\u001b[1;32m----> 2\u001b[0m INPUT_FILE \u001b[38;5;241m=\u001b[39m \u001b[38;5;28;43mopen\u001b[39;49m\u001b[43m(\u001b[49m\u001b[43mINPUT_FILENAME\u001b[49m\u001b[43m,\u001b[49m\u001b[43m \u001b[49m\u001b[38;5;124;43m\"\u001b[39;49m\u001b[38;5;124;43mr\u001b[39;49m\u001b[38;5;124;43m\"\u001b[39;49m\u001b[43m,\u001b[49m\u001b[43m \u001b[49m\u001b[43mencoding\u001b[49m\u001b[38;5;241;43m=\u001b[39;49m\u001b[38;5;124;43m'\u001b[39;49m\u001b[38;5;124;43mutf-8\u001b[39;49m\u001b[38;5;124;43m'\u001b[39;49m\u001b[43m)\u001b[49m\n\u001b[0;32m      3\u001b[0m INPUT_DATA \u001b[38;5;241m=\u001b[39m INPUT_FILE\u001b[38;5;241m.\u001b[39mread()\n\u001b[0;32m      4\u001b[0m \u001b[38;5;28mprint\u001b[39m(INPUT_DATA)\n",
      "\u001b[1;31mFileNotFoundError\u001b[0m: [Errno 2] No such file or directory: 'input.txt'"
     ]
    }
   ],
   "source": [
    "INPUT_FILENAME = \"input.txt\"\n",
    "INPUT_FILE = open(INPUT_FILENAME, \"r\", encoding='utf-8')\n",
    "INPUT_DATA = INPUT_FILE.read()\n",
    "print(INPUT_DATA)"
   ]
  },
  {
   "cell_type": "code",
   "execution_count": 19,
   "metadata": {},
   "outputs": [
    {
     "ename": "NameError",
     "evalue": "name 'INPUT_DATA' is not defined",
     "output_type": "error",
     "traceback": [
      "\u001b[1;31m---------------------------------------------------------------------------\u001b[0m",
      "\u001b[1;31mNameError\u001b[0m                                 Traceback (most recent call last)",
      "Input \u001b[1;32mIn [19]\u001b[0m, in \u001b[0;36m<module>\u001b[1;34m\u001b[0m\n\u001b[1;32m----> 1\u001b[0m INPUT_STRING \u001b[38;5;241m=\u001b[39m \u001b[43mINPUT_DATA\u001b[49m     \u001b[38;5;66;03m# from the file above!\u001b[39;00m\n\u001b[0;32m      3\u001b[0m \u001b[38;5;66;03m# or ... a smaller string of input data: \u001b[39;00m\n\u001b[0;32m      4\u001b[0m INPUT_STRING \u001b[38;5;241m=\u001b[39m \u001b[38;5;124m\"\"\"\u001b[39m\n\u001b[0;32m      5\u001b[0m \u001b[38;5;124mquail tutu pi zeus\u001b[39m\n\u001b[0;32m      6\u001b[0m \u001b[38;5;124mthree eyed aliens are here\u001b[39m\n\u001b[0;32m      7\u001b[0m \u001b[38;5;124m\"\"\"\u001b[39m\n",
      "\u001b[1;31mNameError\u001b[0m: name 'INPUT_DATA' is not defined"
     ]
    }
   ],
   "source": [
    "INPUT_STRING = INPUT_DATA     # from the file above!\n",
    "\n",
    "# or ... a smaller string of input data: \n",
    "INPUT_STRING = \"\"\"\n",
    "quail tutu pi zeus\n",
    "three eyed aliens are here\n",
    "\"\"\"\n",
    "\n",
    "# split is a wonderful function, it returns a list Try it!\n",
    "INPUT_LIST = INPUT_STRING.split()\n",
    "print(INPUT_LIST)\n"
   ]
  },
  {
   "cell_type": "code",
   "execution_count": 20,
   "metadata": {},
   "outputs": [
    {
     "ename": "NameError",
     "evalue": "name 'INPUT_LIST' is not defined",
     "output_type": "error",
     "traceback": [
      "\u001b[1;31m---------------------------------------------------------------------------\u001b[0m",
      "\u001b[1;31mNameError\u001b[0m                                 Traceback (most recent call last)",
      "Input \u001b[1;32mIn [20]\u001b[0m, in \u001b[0;36m<module>\u001b[1;34m\u001b[0m\n\u001b[1;32m----> 1\u001b[0m \u001b[38;5;28;01mfor\u001b[39;00m w \u001b[38;5;129;01min\u001b[39;00m \u001b[43mINPUT_LIST\u001b[49m:\n\u001b[0;32m      2\u001b[0m     inp \u001b[38;5;241m=\u001b[39m w\n\u001b[0;32m      3\u001b[0m     out \u001b[38;5;241m=\u001b[39m doublefun(w)  \u001b[38;5;66;03m# here is the function we're testing\u001b[39;00m\n",
      "\u001b[1;31mNameError\u001b[0m: name 'INPUT_LIST' is not defined"
     ]
    }
   ],
   "source": [
    "for w in INPUT_LIST:\n",
    "    inp = w\n",
    "    out = doublefun(w)  # here is the function we're testing\n",
    "    print(f\"{inp} -> {out}\")   \n",
    "    \n",
    "    # print(f\"{inp:>20s} -> {out:<s}\")     # cool f-string formatting!"
   ]
  },
  {
   "cell_type": "code",
   "execution_count": null,
   "metadata": {},
   "outputs": [],
   "source": [
    "# familiar print-based and assert-based tests are also welcome and work as expected...\n",
    "\n",
    "def f(x):\n",
    "    \"\"\" return one more than the input \"\"\"\n",
    "    return x + 1\n",
    "\n",
    "\n",
    "# print-based tests (to check visually)\n",
    "x = 41\n",
    "act = f(x)  # actual result\n",
    "des = 42    # desired result\n",
    "print(f\"f({x}) is {act} =?= {des}\")  # check visually...\n",
    "\n",
    "\n",
    "# assert-based tests (automatically checked; they succeed silently)\n",
    "x = 41\n",
    "print(\"before assert...\", end = \" \")\n",
    "assert f(x) == 42     # succeeds silently; throws an error if it fails\n",
    "print(\"... and after assert. \\n The test worked if you see this!\")"
   ]
  },
  {
   "cell_type": "markdown",
   "metadata": {},
   "source": [
    "#### Functions to write for hw0pr1\n",
    "+ Python's <tt>str</tt> functions are documented at this [str documentation page](https://docs.python.org/3/library/stdtypes.html#text-sequence-type-str)\n",
    "  + find and read over how <tt>split</tt> works... (that way, too, you'll have a feel for the documentation)\n",
    "+ Python's <tt>string</tt> library, used via <tt>import string</tt> is at [the string library documentation page](https://docs.python.org/3/library/string.html)\n",
    "  + this has some useful constants and other capabilities. Most functionality is in the <tt>str</tt> datatype (class)"
   ]
  },
  {
   "cell_type": "code",
   "execution_count": null,
   "metadata": {},
   "outputs": [],
   "source": [
    "# plus1 and countdown are already complete :-)"
   ]
  },
  {
   "cell_type": "code",
   "execution_count": 22,
   "metadata": {},
   "outputs": [
    {
     "name": "stdout",
     "output_type": "stream",
     "text": [
      "a\n",
      "a\n",
      "a\n",
      "a\n",
      "a\n",
      "a\n",
      "a\n",
      "a\n",
      "a\n",
      "a\n",
      "a\n",
      "a\n",
      "a\n",
      "a\n",
      "a\n",
      "a\n",
      "a\n",
      "a\n",
      "a\n",
      "a\n",
      "a\n",
      "a\n",
      "a\n",
      "a\n",
      "a\n",
      "a\n",
      "a\n",
      "a\n",
      "a\n",
      "a\n",
      "a\n",
      "a\n",
      "a\n",
      "a\n",
      "a\n",
      "a\n",
      "a\n",
      "a\n",
      "a\n",
      "a\n",
      "a\n",
      "a\n",
      "times42(a) returns None\n"
     ]
    }
   ],
   "source": [
    "#\n",
    "# times42( s ):      \twhich should print the string s 42 times (on separate lines)\n",
    "#\n",
    "\n",
    "def times42( s ):\n",
    "    ''' prints the string s 42 times '''\n",
    "    i = 0\n",
    "    while i < 42:\n",
    "        print( s )\n",
    "        i+=1\n",
    "   '''returns nothing'''\n",
    "\n",
    "print(f\"times42(a) returns {times42('a')}\")\n",
    "print(f\"times42(b) returns {times42('b')}\")"
   ]
  },
  {
   "cell_type": "code",
   "execution_count": 19,
   "metadata": {},
   "outputs": [
    {
     "name": "stdout",
     "output_type": "stream",
     "text": [
      "alien(2) returns aliien\n",
      "alien(0) returns alen\n"
     ]
    }
   ],
   "source": [
    "#\n",
    "# alien( N ):          \tshould return the string \"aliii...iiien\" with exactly N \"i\"s\n",
    "#\n",
    "\n",
    "def alien( N ):\n",
    "    ''' returns the string alien with N 'i's '''\n",
    "    al = \"al\"\n",
    "    i = \"\"\n",
    "    en = \"en\"\n",
    "    j = 0\n",
    "    while j < N:\n",
    "        i+=\"i\"\n",
    "        j+=1\n",
    "    return al+i+en\n",
    "\n",
    "print(f\"alien(2) returns {alien(2)}\")\n",
    "print(f\"alien(0) returns {alien(0)}\")"
   ]
  },
  {
   "cell_type": "code",
   "execution_count": 24,
   "metadata": {},
   "outputs": [
    {
     "name": "stdout",
     "output_type": "stream",
     "text": [
      "count_digits('222hi2') returns 4\n",
      "count_digits('hi') returns 0\n"
     ]
    }
   ],
   "source": [
    "#\n",
    "# count_digits( s ):   returns the number of digits in the input string s\n",
    "#\n",
    "\n",
    "def count_digits( s ): \n",
    "    '''returns the number of digits in the input string s'''\n",
    "    d = \"0123456789\"\n",
    "    i = 0\n",
    "    count = 0\n",
    "    while i < len(s) :\n",
    "        if s[i] in d:\n",
    "            count+=1\n",
    "        i+=1\n",
    "    return count\n",
    "\n",
    "print(f\"count_digits('222hi2') returns {count_digits('222hi2')}\")\n",
    "print(f\"count_digits('hi') returns {count_digits('hi')}\")"
   ]
  },
  {
   "cell_type": "code",
   "execution_count": 25,
   "metadata": {},
   "outputs": [
    {
     "name": "stdout",
     "output_type": "stream",
     "text": [
      "clean_digits('222hi2') returns 2222\n",
      "clean_digits('hihi') returns \n"
     ]
    }
   ],
   "source": [
    "#\n",
    "# clean_digits( s ):   returns only the digits in the input string s\n",
    "#\n",
    "\n",
    "def clean_digits( s ): \n",
    "    '''returns only the digits in the input string s'''\n",
    "    digits = \"\"\n",
    "    numbers = \"0123456789\"\n",
    "    i = 0\n",
    "    while i < len(s) :\n",
    "        if s[i] in numbers:\n",
    "            digits+=s[i]\n",
    "        i+=1\n",
    "    return digits\n",
    "\n",
    "print(f\"clean_digits('222hi2') returns {clean_digits('222hi2')}\")\n",
    "print(f\"clean_digits('hihi') returns {clean_digits('hihi')}\")"
   ]
  },
  {
   "cell_type": "code",
   "execution_count": 30,
   "metadata": {},
   "outputs": [
    {
     "name": "stdout",
     "output_type": "stream",
     "text": [
      "clean_word('222Hi2HIHI') returns    hi hihi\n",
      "clean_word('2345') returns     \n"
     ]
    }
   ],
   "source": [
    "#\n",
    "# clean_word( s ):   returns an all-lowercase, all-letter version of the input string s\n",
    "#\n",
    "\n",
    "def clean_word( s ): \n",
    "    '''returns an all-lowercase, all-letter version of the input string s'''\n",
    "    numbers = \"0123456789\"\n",
    "    i = 0\n",
    "    while i < len(s):\n",
    "        if s[i] in numbers:\n",
    "            s = s.replace(s[i], ' ')\n",
    "        i+=1\n",
    "    return s.lower()\n",
    "\n",
    "print(f\"clean_word('222Hi2HIHI') returns {clean_word('222Hi2HIHI')}\")\n",
    "print(f\"clean_word('2345') returns {clean_word('2345')}\")"
   ]
  },
  {
   "cell_type": "code",
   "execution_count": 35,
   "metadata": {},
   "outputs": [
    {
     "name": "stdout",
     "output_type": "stream",
     "text": [
      "spongeBobify('hihihi') returns HiHiHi\n",
      "spongeBobify('poptarts') returns PoPtArTs\n"
     ]
    }
   ],
   "source": [
    "#\n",
    "# spongeBobify(s): returns an alternating lowercase, uppercase version of input string \"s\"\n",
    "#\n",
    "\n",
    "def spongeBobify(s):\n",
    "    '''alternates the letters in s in uppercase and lowercase'''\n",
    "    i = 0\n",
    "    empty = \"\"\n",
    "    while i < len(s):\n",
    "        if i%2 != 0:\n",
    "            empty += s[i].lower()\n",
    "        else:\n",
    "            empty += s[i].upper()\n",
    "        i+=1\n",
    "    return empty\n",
    "\n",
    "print(f\"spongeBobify('hihihi') returns {spongeBobify('hihihi')}\")\n",
    "print(f\"spongeBobify('poptarts') returns {spongeBobify('poptarts')}\")"
   ]
  }
 ],
 "metadata": {
  "interpreter": {
   "hash": "57a4234f14e81cbf7baecbff46af6060de3f593e13cc5d80e22dc513dd1999c2"
  },
  "kernelspec": {
   "display_name": "Python 3.8.3 64-bit ('base': conda)",
   "language": "python",
   "name": "python3"
  },
  "language_info": {
   "codemirror_mode": {
    "name": "ipython",
    "version": 3
   },
   "file_extension": ".py",
   "mimetype": "text/x-python",
   "name": "python",
   "nbconvert_exporter": "python",
   "pygments_lexer": "ipython3",
   "version": "3.10.2"
  },
  "orig_nbformat": 4
 },
 "nbformat": 4,
 "nbformat_minor": 2
}
