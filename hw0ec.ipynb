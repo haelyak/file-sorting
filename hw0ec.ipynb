{
 "cells": [
  {
   "cell_type": "markdown",
   "metadata": {},
   "source": [
    "#### cs181y's EC notebook (week0)\n",
    "\n",
    "This is simply a starting notebook, inviting work on the new-file-writing and **Lost Grutor** extra-credit challenges this week...\n",
    "\n",
    "For the extra credit,\n",
    "+ you're always able to submit by Tuesday (for the ec, this won't use a Euro)\n",
    "+ feel free to use the ec to venture further afield (as our Lost Grutor has...)"
   ]
  },
  {
   "cell_type": "code",
   "execution_count": 4,
   "metadata": {},
   "outputs": [
    {
     "name": "stdout",
     "output_type": "stream",
     "text": [
      "python believes\n",
      "   'strawberry' > 'brown sugar cinnamon'\n"
     ]
    }
   ],
   "source": [
    "# This, just to check that the code-cells are working, as well\n",
    "\n",
    "s = \"strawberry\"\n",
    "b = \"brown sugar cinnamon\"\n",
    "\n",
    "if s > b:\n",
    "    print(f\"python believes\\n   '{s}' > '{b}'\")\n",
    "else:\n",
    "    print(f\"python is incorrect...\")\n"
   ]
  },
  {
   "cell_type": "markdown",
   "metadata": {},
   "source": [
    "+ The organization of the extra-credit solutions is quite open-ended (i.e., up to you)\n",
    "+ Please do\n",
    "  + Make sure your notebook runs\n",
    "  + Leave the results you found in your cell outputs\n",
    "  + Be sure you don't submit the files we have\n",
    "  + But _do_ submit any additional files you may need or may have created\n",
    "\n",
    "<br>\n",
    "\n",
    "+ Good luck with the ec -- especially finding our Lost Grutor!\n",
    "\n",
    "<hr>"
   ]
  }
 ],
 "metadata": {
  "interpreter": {
   "hash": "7ccb4bb6bd67730c9185e6c24c983362cd7b4575b595bfae100d8d91e48f4f1e"
  },
  "kernelspec": {
   "display_name": "Python 3.8.8 64-bit (conda)",
   "language": "python",
   "name": "python3"
  },
  "language_info": {
   "codemirror_mode": {
    "name": "ipython",
    "version": 3
   },
   "file_extension": ".py",
   "mimetype": "text/x-python",
   "name": "python",
   "nbconvert_exporter": "python",
   "pygments_lexer": "ipython3",
   "version": "3.10.2"
  },
  "orig_nbformat": 4
 },
 "nbformat": 4,
 "nbformat_minor": 2
}
