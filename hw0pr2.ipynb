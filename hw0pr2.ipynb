{
 "cells": [
  {
   "cell_type": "markdown",
   "metadata": {},
   "source": [
    "\n",
    "### hw0pr2\n",
    "+ walking through folders and files\n",
    "+ analyzing, counting, <i>inquiring</i> as we go!  \n",
    "+ [hw0's assignment page with hw0pr2's details](https://docs.google.com/document/d/10etTC8nC6K3lbYZooKFYOcnyBOzqo418q2ACeHcHKeM/edit) "
   ]
  },
  {
   "cell_type": "code",
   "execution_count": 9,
   "metadata": {},
   "outputs": [
    {
     "data": {
      "text/plain": [
       "'/Users/clinic20/Desktop/desktop to June 30 2021/workingspace/week0_spr22/problem2'"
      ]
     },
     "execution_count": 9,
     "metadata": {},
     "output_type": "execute_result"
    }
   ],
   "source": [
    "# Where are we?\n",
    "%pwd"
   ]
  },
  {
   "cell_type": "code",
   "execution_count": 8,
   "metadata": {},
   "outputs": [
    {
     "name": "stdout",
     "output_type": "stream",
     "text": [
      "/Users/clinic20/Desktop/desktop to June 30 2021/workingspace/week0_spr22/problem2\n"
     ]
    }
   ],
   "source": [
    "# in case we need to move around\n",
    "%cd ."
   ]
  },
  {
   "cell_type": "code",
   "execution_count": 12,
   "metadata": {},
   "outputs": [],
   "source": [
    "# we will use a few file-handling libraries. These are built-in to python:\n",
    "# (feel free to look over thier online documentation; the official python docs are esp. good)\n",
    "import os\n",
    "import os.path\n",
    "import shutil"
   ]
  },
  {
   "cell_type": "code",
   "execution_count": 13,
   "metadata": {},
   "outputs": [
    {
     "data": {
      "text/plain": [
       "<generator object _walk at 0x10b799700>"
      ]
     },
     "execution_count": 13,
     "metadata": {},
     "output_type": "execute_result"
    }
   ],
   "source": [
    "# os.walk returns the structure of a folder (directory)\n",
    "\n",
    "# Here, we \"walk\" the intro_examples subfolder:\n",
    "all_files = os.walk(\"./intro_examples\")\n",
    "\n",
    "all_files     # oops! it's a \"generator object\""
   ]
  },
  {
   "cell_type": "code",
   "execution_count": 1,
   "metadata": {},
   "outputs": [
    {
     "name": "stdout",
     "output_type": "stream",
     "text": [
      "[('./intro_examples', ['hp', 'phone_files', 'test', 'addresses'], ['.DS_Store', 'examples.py', 'hw0pr2.py']), ('./intro_examples/hp', [], ['samiam.txt', '.DS_Store', 'hp1.txt']), ('./intro_examples/phone_files', ['00', '01'], ['.DS_Store']), ('./intro_examples/phone_files/00', [], ['01.txt', '00.txt', '02.txt', '03.txt', '07.txt', '06.txt', '10.txt', '04.txt', '05.txt', '08.txt', '09.txt']), ('./intro_examples/phone_files/01', [], ['0038.txt', '0039.txt', '76.txt', '62.txt', '63.txt', '77.txt', '61.txt', '75.txt', '74.txt', '60.txt', '64.txt', '70.txt', '58.txt', '59.txt', '71.txt', '65.txt', '73.txt', '67.txt', '0049.txt', '0048.txt', '66.txt', '72.txt', '57.txt', '0045.txt', '0051.txt', '80.txt', '81.txt', '0050.txt', '0044.txt', '56.txt', '68.txt', '0052.txt', '54.txt', '0046.txt', '83.txt', '82.txt', '0047.txt', '55.txt', '69.txt', '0043.txt', '79.txt', '86.txt', '78.txt', '0042.txt', '0040.txt', '85.txt', '84.txt', '0041.txt']), ('./intro_examples/test', ['sub1', 'sub2'], ['.DS_Store', 'big_dog.txt']), ('./intro_examples/test/sub1', ['superSub1'], ['.DS_Store', 'hello.txt']), ('./intro_examples/test/sub1/superSub1', ['superDuperSub2'], ['.DS_Store', '3_dogmas.py']), ('./intro_examples/test/sub1/superSub1/superDuperSub2', [], ['.DS_Store', 'cool_dog.txt']), ('./intro_examples/test/sub2', ['Downloads'], ['.DS_Store', 'cake_recipes.py']), ('./intro_examples/test/sub2/Downloads', [], ['recipe2.html', 'ice_cream_recipe.jpg', 'answers.css', 'answers.js']), ('./intro_examples/addresses', [], ['2005.txt', '2013.txt', '2009.txt'])]\n"
     ]
    }
   ],
   "source": [
    "all_files = os.walk(\"./intro_examples\")\n",
    "L = list(all_files)   # now, we will see them all...\n",
    "print(L)"
   ]
  },
  {
   "cell_type": "markdown",
   "metadata": {},
   "source": [
    "####  An example function and a script to run it...\n",
    "+ Warning!  This example has a bug\n",
    "+ In the <tt>how_many_txt_files</tt> function, it's meant to add up all the .txt files\n",
    "+ But, it replaces the value each iteration, instead of adding them up...\n",
    "+ Try debugging this... \n",
    "\n",
    "+ Then, you're on your way!"
   ]
  },
  {
   "cell_type": "code",
   "execution_count": 16,
   "metadata": {},
   "outputs": [
    {
     "name": "stdout",
     "output_type": "stream",
     "text": [
      "[[ Start! ]]\n",
      "\n",
      "AllFiles has length:  12 \n",
      "\n",
      "In ./intro_examples there are 0 .txt files found.\n",
      "In ./intro_examples/hp there are 2 .txt files found.\n",
      "In ./intro_examples/phone_files there are 0 .txt files found.\n",
      "In ./intro_examples/phone_files/00 there are 11 .txt files found.\n",
      "In ./intro_examples/phone_files/01 there are 48 .txt files found.\n",
      "In ./intro_examples/test there are 1 .txt files found.\n",
      "In ./intro_examples/test/sub1 there are 1 .txt files found.\n",
      "In ./intro_examples/test/sub1/superSub1 there are 0 .txt files found.\n",
      "In ./intro_examples/test/sub1/superSub1/superDuperSub2 there are 1 .txt files found.\n",
      "In ./intro_examples/test/sub2 there are 0 .txt files found.\n",
      "In ./intro_examples/test/sub2/Downloads there are 0 .txt files found.\n",
      "In ./intro_examples/addresses there are 3 .txt files found.\n",
      "num_txt_files in . is 3\n",
      "\n",
      "[[ Fin. ]]\n"
     ]
    }
   ],
   "source": [
    "#\n",
    "# our first \"rolodex\" analysis:  Counting all of the .txt files\n",
    "#\n",
    "\n",
    "def how_many_txt_files(path):\n",
    "    \"\"\" walks a whole directory, named path, including subfolders\n",
    "        and returns how many txt files are in it!\n",
    "\n",
    "        call this with: how_many_txt_files(\"./intro_examples\")\n",
    "\n",
    "        the (v1) (v2) etc. are different versions, to illustrate\n",
    "        the process of _trying things out_ and _taking small steps_\n",
    "    \"\"\"\n",
    "    # return 42  # just to check that it's working (v1)    \n",
    "\n",
    "    AllFiles = list(os.walk(path))\n",
    "    # print(AllFiles)    # just to check out what's up (v2)\n",
    "\n",
    "    print(\"AllFiles has length: \", len(AllFiles), \"\\n\")\n",
    "\n",
    "    for item in AllFiles:\n",
    "        # print(\"item is\", item, \"\\n\")    (v3)\n",
    "        foldername, LoDirs, LoFiles = item   # cool unpacking!\n",
    "        print(\"In\", foldername, \"there are\", end=\" \")\n",
    "\n",
    "        count = 0\n",
    "        for filename in LoFiles:\n",
    "            if filename[-3:] == \"txt\":\n",
    "                count += 1\n",
    "        print(count, \".txt files found.\")\n",
    "\n",
    "    return count   # this is not _yet_ correct!\n",
    "\n",
    "\n",
    "#\n",
    "# when exploring, keep your data close (and your loops closer!)\n",
    "#\n",
    "if True:\n",
    "    \"\"\" overall script that runs examples \"\"\"\n",
    "\n",
    "    # sign on\n",
    "    print(f\"[[ Start! ]]\\n\")\n",
    "\n",
    "    # let's see what os.walk does\n",
    "    # walk_result = list(os.walk(\".\"))\n",
    "    # print(walk_result)\n",
    "\n",
    "    # let's see how many txt files there are...\n",
    "    num_txt_files = how_many_txt_files(\"./intro_examples\")  # \".\" !\n",
    "    print(\"num_txt_files in . is\", num_txt_files)\n",
    "\n",
    "    # sign off\n",
    "    print(\"\\n[[ Fin. ]]\")\n",
    "\n"
   ]
  },
  {
   "cell_type": "code",
   "execution_count": 3,
   "metadata": {},
   "outputs": [
    {
     "name": "stdout",
     "output_type": "stream",
     "text": [
      "The first 5 characters of file42.txt are 81143\n"
     ]
    }
   ],
   "source": [
    "#\n",
    "# a script that shows the reading the _contents_ of a file\n",
    "#\n",
    "#    ... and shows/reminds about _exceptions_:\n",
    "# \n",
    "\n",
    "try: \n",
    "    filename = \"file42.txt\"\n",
    "    f = open(filename, \"r\", encoding='utf-8')  # tries to open the file\n",
    "    fulltext = f.read()\n",
    "    print(f\"The first 5 characters of {filename} are {fulltext[0:5]}\")\n",
    "    f.close()\n",
    "\n",
    "except FileNotFoundError as e:           # if it's not found, we land here\n",
    "    print(f\"{filename} was not found!\")\n",
    "    print(f\"The exception is {e}\")\n"
   ]
  },
  {
   "cell_type": "markdown",
   "metadata": {},
   "source": [
    "#### Onward into problem 2's file-analysis...\n",
    "+ [Here is the homework page that describes hw0's challenges...](https://docs.google.com/document/d/10etTC8nC6K3lbYZooKFYOcnyBOzqo418q2ACeHcHKeM/edit)\n",
    "+ Remember that several questions and/or pieces (for almost every problem) are of your own design \n",
    "+ For this problem, specifically, the self-designed part involves\n",
    "  + your own questions to be answered about **our** files -- and\n",
    "  + your own questions to be answered about **your** files!\n",
    "\n",
    "<br>\n"
   ]
  }
 ],
 "metadata": {
  "interpreter": {
   "hash": "57a4234f14e81cbf7baecbff46af6060de3f593e13cc5d80e22dc513dd1999c2"
  },
  "kernelspec": {
   "display_name": "Python 3.8.3 64-bit ('base': conda)",
   "language": "python",
   "name": "python3"
  },
  "language_info": {
   "codemirror_mode": {
    "name": "ipython",
    "version": 3
   },
   "file_extension": ".py",
   "mimetype": "text/x-python",
   "name": "python",
   "nbconvert_exporter": "python",
   "pygments_lexer": "ipython3",
   "version": "3.10.2"
  },
  "orig_nbformat": 4
 },
 "nbformat": 4,
 "nbformat_minor": 2
}
